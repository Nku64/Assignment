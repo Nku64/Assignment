{
 "cells": [
  {
   "cell_type": "markdown",
   "metadata": {},
   "source": [
    "# Problem Statement\n",
    "\n",
    "Take any dataset (after reading their descriptions, make sure it has multiple variables) from https://www2.stetson.edu/~jrasp/data.htm. This website is created by Dr. John Rasp as a vast collection of datasets for students to try out their statistics methods.\n",
    "\n",
    "a) Find the Covariance matrix and Correlation matrix of this data matrix\n",
    "b) Perform PCA/SVD, choose appropriate number(justify by a scree plot) of dimensions/principal components/singular values and find the new data matrix in terms of these dimensions.\n",
    "c) Plot the scatter plot of this data along the first two dimensions (or three if it is possible)"
   ]
  },
  {
   "cell_type": "code",
   "execution_count": 4,
   "metadata": {},
   "outputs": [],
   "source": [
    "import pandas as pd\n",
    "import matplotlib.pyplot as plt\n",
    "import seaborn as sns\n",
    "import numpy as np"
   ]
  },
  {
   "cell_type": "markdown",
   "metadata": {},
   "source": [
    "# Dataset¶\n",
    "This dataset contains 8 features and 97 rows"
   ]
  },
  {
   "cell_type": "code",
   "execution_count": 5,
   "metadata": {},
   "outputs": [],
   "source": [
    "poverty_dataset=pd.read_excel('Poverty.xls')"
   ]
  },
  {
   "cell_type": "code",
   "execution_count": 6,
   "metadata": {},
   "outputs": [
    {
     "data": {
      "text/html": [
       "<div>\n",
       "<style scoped>\n",
       "    .dataframe tbody tr th:only-of-type {\n",
       "        vertical-align: middle;\n",
       "    }\n",
       "\n",
       "    .dataframe tbody tr th {\n",
       "        vertical-align: top;\n",
       "    }\n",
       "\n",
       "    .dataframe thead th {\n",
       "        text-align: right;\n",
       "    }\n",
       "</style>\n",
       "<table border=\"1\" class=\"dataframe\">\n",
       "  <thead>\n",
       "    <tr style=\"text-align: right;\">\n",
       "      <th></th>\n",
       "      <th>BirthRt</th>\n",
       "      <th>DeathRt</th>\n",
       "      <th>InfMort</th>\n",
       "      <th>LExpM</th>\n",
       "      <th>LExpF</th>\n",
       "      <th>GNP</th>\n",
       "      <th>Region</th>\n",
       "      <th>Country</th>\n",
       "    </tr>\n",
       "  </thead>\n",
       "  <tbody>\n",
       "    <tr>\n",
       "      <td>0</td>\n",
       "      <td>24.7</td>\n",
       "      <td>5.7</td>\n",
       "      <td>30.8</td>\n",
       "      <td>69.6</td>\n",
       "      <td>75.5</td>\n",
       "      <td>600</td>\n",
       "      <td>1</td>\n",
       "      <td>Albania</td>\n",
       "    </tr>\n",
       "    <tr>\n",
       "      <td>1</td>\n",
       "      <td>12.5</td>\n",
       "      <td>11.9</td>\n",
       "      <td>14.4</td>\n",
       "      <td>68.3</td>\n",
       "      <td>74.7</td>\n",
       "      <td>2250</td>\n",
       "      <td>1</td>\n",
       "      <td>Bulgaria</td>\n",
       "    </tr>\n",
       "    <tr>\n",
       "      <td>2</td>\n",
       "      <td>13.4</td>\n",
       "      <td>11.7</td>\n",
       "      <td>11.3</td>\n",
       "      <td>71.8</td>\n",
       "      <td>77.7</td>\n",
       "      <td>2980</td>\n",
       "      <td>1</td>\n",
       "      <td>Czechoslovakia</td>\n",
       "    </tr>\n",
       "    <tr>\n",
       "      <td>3</td>\n",
       "      <td>12.0</td>\n",
       "      <td>12.4</td>\n",
       "      <td>7.6</td>\n",
       "      <td>69.8</td>\n",
       "      <td>75.9</td>\n",
       "      <td>*</td>\n",
       "      <td>1</td>\n",
       "      <td>Former_E._Germany</td>\n",
       "    </tr>\n",
       "    <tr>\n",
       "      <td>4</td>\n",
       "      <td>11.6</td>\n",
       "      <td>13.4</td>\n",
       "      <td>14.8</td>\n",
       "      <td>65.4</td>\n",
       "      <td>73.8</td>\n",
       "      <td>2780</td>\n",
       "      <td>1</td>\n",
       "      <td>Hungary</td>\n",
       "    </tr>\n",
       "    <tr>\n",
       "      <td>...</td>\n",
       "      <td>...</td>\n",
       "      <td>...</td>\n",
       "      <td>...</td>\n",
       "      <td>...</td>\n",
       "      <td>...</td>\n",
       "      <td>...</td>\n",
       "      <td>...</td>\n",
       "      <td>...</td>\n",
       "    </tr>\n",
       "    <tr>\n",
       "      <td>92</td>\n",
       "      <td>52.2</td>\n",
       "      <td>15.6</td>\n",
       "      <td>103.0</td>\n",
       "      <td>49.9</td>\n",
       "      <td>52.7</td>\n",
       "      <td>220</td>\n",
       "      <td>6</td>\n",
       "      <td>Uganda</td>\n",
       "    </tr>\n",
       "    <tr>\n",
       "      <td>93</td>\n",
       "      <td>50.5</td>\n",
       "      <td>14.0</td>\n",
       "      <td>106.0</td>\n",
       "      <td>51.3</td>\n",
       "      <td>54.7</td>\n",
       "      <td>110</td>\n",
       "      <td>6</td>\n",
       "      <td>Tanzania</td>\n",
       "    </tr>\n",
       "    <tr>\n",
       "      <td>94</td>\n",
       "      <td>45.6</td>\n",
       "      <td>14.2</td>\n",
       "      <td>83.0</td>\n",
       "      <td>50.3</td>\n",
       "      <td>53.7</td>\n",
       "      <td>220</td>\n",
       "      <td>6</td>\n",
       "      <td>Zaire</td>\n",
       "    </tr>\n",
       "    <tr>\n",
       "      <td>95</td>\n",
       "      <td>51.1</td>\n",
       "      <td>13.7</td>\n",
       "      <td>80.0</td>\n",
       "      <td>50.4</td>\n",
       "      <td>52.5</td>\n",
       "      <td>420</td>\n",
       "      <td>6</td>\n",
       "      <td>Zambia</td>\n",
       "    </tr>\n",
       "    <tr>\n",
       "      <td>96</td>\n",
       "      <td>41.7</td>\n",
       "      <td>10.3</td>\n",
       "      <td>66.0</td>\n",
       "      <td>56.5</td>\n",
       "      <td>60.1</td>\n",
       "      <td>640</td>\n",
       "      <td>6</td>\n",
       "      <td>Zimbabwe</td>\n",
       "    </tr>\n",
       "  </tbody>\n",
       "</table>\n",
       "<p>97 rows × 8 columns</p>\n",
       "</div>"
      ],
      "text/plain": [
       "    BirthRt  DeathRt  InfMort  LExpM  LExpF   GNP  Region            Country\n",
       "0      24.7      5.7     30.8   69.6   75.5   600       1            Albania\n",
       "1      12.5     11.9     14.4   68.3   74.7  2250       1           Bulgaria\n",
       "2      13.4     11.7     11.3   71.8   77.7  2980       1     Czechoslovakia\n",
       "3      12.0     12.4      7.6   69.8   75.9     *       1  Former_E._Germany\n",
       "4      11.6     13.4     14.8   65.4   73.8  2780       1            Hungary\n",
       "..      ...      ...      ...    ...    ...   ...     ...                ...\n",
       "92     52.2     15.6    103.0   49.9   52.7   220       6             Uganda\n",
       "93     50.5     14.0    106.0   51.3   54.7   110       6           Tanzania\n",
       "94     45.6     14.2     83.0   50.3   53.7   220       6              Zaire\n",
       "95     51.1     13.7     80.0   50.4   52.5   420       6             Zambia\n",
       "96     41.7     10.3     66.0   56.5   60.1   640       6           Zimbabwe\n",
       "\n",
       "[97 rows x 8 columns]"
      ]
     },
     "execution_count": 6,
     "metadata": {},
     "output_type": "execute_result"
    }
   ],
   "source": [
    "pd.read_excel('poverty.xls')"
   ]
  },
  {
   "cell_type": "code",
   "execution_count": 7,
   "metadata": {},
   "outputs": [
    {
     "name": "stdout",
     "output_type": "stream",
     "text": [
      "Index(['BirthRt', 'DeathRt', 'InfMort', 'LExpM', 'LExpF', 'GNP', 'Region',\n",
      "       'Country'],\n",
      "      dtype='object')\n"
     ]
    }
   ],
   "source": [
    "print(poverty_dataset.columns)"
   ]
  },
  {
   "cell_type": "code",
   "execution_count": 8,
   "metadata": {},
   "outputs": [
    {
     "name": "stdout",
     "output_type": "stream",
     "text": [
      "97\n",
      "(97, 8)\n",
      "   BirthRt  DeathRt  InfMort  LExpM  LExpF   GNP  Region            Country\n",
      "0     24.7      5.7     30.8   69.6   75.5   600       1            Albania\n",
      "1     12.5     11.9     14.4   68.3   74.7  2250       1           Bulgaria\n",
      "2     13.4     11.7     11.3   71.8   77.7  2980       1     Czechoslovakia\n",
      "3     12.0     12.4      7.6   69.8   75.9     *       1  Former_E._Germany\n",
      "4     11.6     13.4     14.8   65.4   73.8  2780       1            Hungary\n"
     ]
    }
   ],
   "source": [
    "print(len(poverty_dataset))\n",
    "print(poverty_dataset.shape)\n",
    "print(poverty_dataset.head())"
   ]
  },
  {
   "cell_type": "code",
   "execution_count": 9,
   "metadata": {},
   "outputs": [],
   "source": [
    "complete_data=poverty_dataset\n",
    "poverty_dataset=poverty_dataset.drop(['GNP','Country'],axis=1)"
   ]
  },
  {
   "cell_type": "code",
   "execution_count": 25,
   "metadata": {},
   "outputs": [
    {
     "data": {
      "image/png": "[encoded data removed]",
      "text/plain": [
       "<Figure size 432x288 with 1 Axes>"
      ]
     },
     "metadata": {
      "needs_background": "light"
     },
     "output_type": "display_data"
    }
   ],
   "source": [
    "poverty_dataset.plot(kind='scatter',x='Region',y='BirthRt')\n",
    "plt.show()"
   ]
  },
  {
   "cell_type": "code",
   "execution_count": 26,
   "metadata": {},
   "outputs": [
    {
     "data": {
      "text/html": [
       "<div>\n",
       "<style scoped>\n",
       "    .dataframe tbody tr th:only-of-type {\n",
       "        vertical-align: middle;\n",
       "    }\n",
       "\n",
       "    .dataframe tbody tr th {\n",
       "        vertical-align: top;\n",
       "    }\n",
       "\n",
       "    .dataframe thead th {\n",
       "        text-align: right;\n",
       "    }\n",
       "</style>\n",
       "<table border=\"1\" class=\"dataframe\">\n",
       "  <thead>\n",
       "    <tr style=\"text-align: right;\">\n",
       "      <th></th>\n",
       "      <th>BirthRt</th>\n",
       "      <th>DeathRt</th>\n",
       "      <th>InfMort</th>\n",
       "      <th>LExpM</th>\n",
       "      <th>LExpF</th>\n",
       "      <th>Region</th>\n",
       "    </tr>\n",
       "  </thead>\n",
       "  <tbody>\n",
       "    <tr>\n",
       "      <td>count</td>\n",
       "      <td>97.000000</td>\n",
       "      <td>97.000000</td>\n",
       "      <td>97.000000</td>\n",
       "      <td>97.000000</td>\n",
       "      <td>97.000000</td>\n",
       "      <td>97.000000</td>\n",
       "    </tr>\n",
       "    <tr>\n",
       "      <td>mean</td>\n",
       "      <td>29.229897</td>\n",
       "      <td>10.836082</td>\n",
       "      <td>54.901031</td>\n",
       "      <td>61.485567</td>\n",
       "      <td>66.151134</td>\n",
       "      <td>3.948454</td>\n",
       "    </tr>\n",
       "    <tr>\n",
       "      <td>std</td>\n",
       "      <td>13.546695</td>\n",
       "      <td>4.647495</td>\n",
       "      <td>45.992584</td>\n",
       "      <td>9.615970</td>\n",
       "      <td>11.005391</td>\n",
       "      <td>1.740277</td>\n",
       "    </tr>\n",
       "    <tr>\n",
       "      <td>min</td>\n",
       "      <td>9.700000</td>\n",
       "      <td>2.200000</td>\n",
       "      <td>4.500000</td>\n",
       "      <td>38.100000</td>\n",
       "      <td>41.200000</td>\n",
       "      <td>1.000000</td>\n",
       "    </tr>\n",
       "    <tr>\n",
       "      <td>25%</td>\n",
       "      <td>14.500000</td>\n",
       "      <td>7.800000</td>\n",
       "      <td>13.100000</td>\n",
       "      <td>55.800000</td>\n",
       "      <td>57.500000</td>\n",
       "      <td>3.000000</td>\n",
       "    </tr>\n",
       "    <tr>\n",
       "      <td>50%</td>\n",
       "      <td>29.000000</td>\n",
       "      <td>9.500000</td>\n",
       "      <td>43.000000</td>\n",
       "      <td>63.700000</td>\n",
       "      <td>67.800000</td>\n",
       "      <td>4.000000</td>\n",
       "    </tr>\n",
       "    <tr>\n",
       "      <td>75%</td>\n",
       "      <td>42.200000</td>\n",
       "      <td>12.500000</td>\n",
       "      <td>83.000000</td>\n",
       "      <td>68.600000</td>\n",
       "      <td>75.400000</td>\n",
       "      <td>6.000000</td>\n",
       "    </tr>\n",
       "    <tr>\n",
       "      <td>max</td>\n",
       "      <td>52.200000</td>\n",
       "      <td>25.000000</td>\n",
       "      <td>181.600000</td>\n",
       "      <td>75.900000</td>\n",
       "      <td>81.800000</td>\n",
       "      <td>6.000000</td>\n",
       "    </tr>\n",
       "  </tbody>\n",
       "</table>\n",
       "</div>"
      ],
      "text/plain": [
       "         BirthRt    DeathRt     InfMort      LExpM      LExpF     Region\n",
       "count  97.000000  97.000000   97.000000  97.000000  97.000000  97.000000\n",
       "mean   29.229897  10.836082   54.901031  61.485567  66.151134   3.948454\n",
       "std    13.546695   4.647495   45.992584   9.615970  11.005391   1.740277\n",
       "min     9.700000   2.200000    4.500000  38.100000  41.200000   1.000000\n",
       "25%    14.500000   7.800000   13.100000  55.800000  57.500000   3.000000\n",
       "50%    29.000000   9.500000   43.000000  63.700000  67.800000   4.000000\n",
       "75%    42.200000  12.500000   83.000000  68.600000  75.400000   6.000000\n",
       "max    52.200000  25.000000  181.600000  75.900000  81.800000   6.000000"
      ]
     },
     "execution_count": 26,
     "metadata": {},
     "output_type": "execute_result"
    }
   ],
   "source": [
    "poverty_dataset.describe()"
   ]
  },
  {
   "cell_type": "markdown",
   "metadata": {},
   "source": [
    "# Principal Component Analysis"
   ]
  },
  {
   "cell_type": "code",
   "execution_count": 27,
   "metadata": {},
   "outputs": [],
   "source": [
    "X_s=poverty_dataset.iloc[:,0:5]\n",
    "Y_s=poverty_dataset.iloc[:,5]"
   ]
  },
  {
   "cell_type": "code",
   "execution_count": 28,
   "metadata": {},
   "outputs": [],
   "source": [
    "x_vec=X_s.values\n",
    "y_vec=Y_s.values"
   ]
  },
  {
   "cell_type": "code",
   "execution_count": 29,
   "metadata": {},
   "outputs": [
    {
     "name": "stdout",
     "output_type": "stream",
     "text": [
      "<class 'numpy.ndarray'>\n"
     ]
    }
   ],
   "source": [
    "print(type(x_vec))\n",
    "n=len(x_vec)"
   ]
  },
  {
   "cell_type": "code",
   "execution_count": 30,
   "metadata": {},
   "outputs": [],
   "source": [
    "Cov_matrix=np.cov(x_vec.T)"
   ]
  },
  {
   "cell_type": "code",
   "execution_count": 32,
   "metadata": {},
   "outputs": [
    {
     "name": "stdout",
     "output_type": "stream",
     "text": [
      "[[ 183.51295103   30.61005584  534.79496886 -112.8767515  -133.34521134]\n",
      " [  30.61005584   21.59920533  139.92589991  -32.77874463  -35.44690593]\n",
      " [ 534.79496886  139.92589991 2115.31781143 -414.3292558  -483.56686576]\n",
      " [-112.8767515   -32.77874463 -414.3292558    92.46687285  103.98164154]\n",
      " [-133.34521134  -35.44690593 -483.56686576  103.98164154  121.11862474]]\n"
     ]
    }
   ],
   "source": [
    "print(Cov_matrix)"
   ]
  },
  {
   "cell_type": "code",
   "execution_count": 38,
   "metadata": {},
   "outputs": [
    {
     "data": {
      "image/png": "[encoded data removed]",
      "text/plain": [
       "<Figure size 432x288 with 1 Axes>"
      ]
     },
     "metadata": {
      "needs_background": "light"
     },
     "output_type": "display_data"
    }
   ],
   "source": [
    "from sklearn.decomposition import PCA\n",
    "pca=PCA().fit(x_vec)\n",
    "plt.plot(np.cumsum(pca.explained_variance_ratio_))\n",
    "plt.xlabel('number of components')\n",
    "plt.ylabel('cumulative explained variance');"
   ]
  },
  {
   "cell_type": "code",
   "execution_count": 39,
   "metadata": {},
   "outputs": [],
   "source": [
    "pca = PCA(n_components=1)\n",
    "newdata = pca.fit_transform(x_vec)"
   ]
  },
  {
   "cell_type": "code",
   "execution_count": 43,
   "metadata": {},
   "outputs": [
    {
     "data": {
      "image/png": "[encoded data removed]",
      "text/plain": [
       "<Figure size 432x288 with 1 Axes>"
      ]
     },
     "metadata": {
      "needs_background": "light"
     },
     "output_type": "display_data"
    }
   ],
   "source": [
    "plt.scatter(y_vec,newdata)\n",
    "plt.xlabel('New_column')\n",
    "plt.ylabel('Region')\n",
    "plt.show()"
   ]
  },
  {
   "cell_type": "markdown",
   "metadata": {},
   "source": [
    "For reducing original 5 Dimentions (BirthRt, DeathRt, InfMort, LExpM, LExpF) into 2-Dimentions(feat1,feat2)"
   ]
  },
  {
   "cell_type": "code",
   "execution_count": 45,
   "metadata": {},
   "outputs": [],
   "source": [
    "#taking top two components\n",
    "pca2=PCA(2)\n",
    "new_dataset=pca2.fit_transform(x_vec)\n",
    "new_dataframe=pd.DataFrame(data=new_dataset,columns=['feat1','feat2'])"
   ]
  },
  {
   "cell_type": "code",
   "execution_count": 46,
   "metadata": {},
   "outputs": [
    {
     "data": {
      "text/html": [
       "<div>\n",
       "<style scoped>\n",
       "    .dataframe tbody tr th:only-of-type {\n",
       "        vertical-align: middle;\n",
       "    }\n",
       "\n",
       "    .dataframe tbody tr th {\n",
       "        vertical-align: top;\n",
       "    }\n",
       "\n",
       "    .dataframe thead th {\n",
       "        text-align: right;\n",
       "    }\n",
       "</style>\n",
       "<table border=\"1\" class=\"dataframe\">\n",
       "  <thead>\n",
       "    <tr style=\"text-align: right;\">\n",
       "      <th></th>\n",
       "      <th>feat1</th>\n",
       "      <th>feat2</th>\n",
       "    </tr>\n",
       "  </thead>\n",
       "  <tbody>\n",
       "    <tr>\n",
       "      <td>0</td>\n",
       "      <td>-27.236608</td>\n",
       "      <td>-0.650739</td>\n",
       "    </tr>\n",
       "    <tr>\n",
       "      <td>1</td>\n",
       "      <td>-44.570397</td>\n",
       "      <td>5.693905</td>\n",
       "    </tr>\n",
       "    <tr>\n",
       "      <td>2</td>\n",
       "      <td>-48.526605</td>\n",
       "      <td>5.058115</td>\n",
       "    </tr>\n",
       "    <tr>\n",
       "      <td>3</td>\n",
       "      <td>-51.493645</td>\n",
       "      <td>4.589038</td>\n",
       "    </tr>\n",
       "    <tr>\n",
       "      <td>4</td>\n",
       "      <td>-43.596494</td>\n",
       "      <td>6.157510</td>\n",
       "    </tr>\n",
       "  </tbody>\n",
       "</table>\n",
       "</div>"
      ],
      "text/plain": [
       "       feat1     feat2\n",
       "0 -27.236608 -0.650739\n",
       "1 -44.570397  5.693905\n",
       "2 -48.526605  5.058115\n",
       "3 -51.493645  4.589038\n",
       "4 -43.596494  6.157510"
      ]
     },
     "execution_count": 46,
     "metadata": {},
     "output_type": "execute_result"
    }
   ],
   "source": [
    "((new_dataframe).head())"
   ]
  },
  {
   "cell_type": "code",
   "execution_count": 51,
   "metadata": {},
   "outputs": [
    {
     "data": {
      "image/png": "[encoded data removed]",
      "text/plain": [
       "<Figure size 432x288 with 1 Axes>"
      ]
     },
     "metadata": {
      "needs_background": "light"
     },
     "output_type": "display_data"
    }
   ],
   "source": [
    "plt.scatter(new_dataframe['feat1'],new_dataframe['feat2'])\n",
    "plt.xlabel('feat1')\n",
    "plt.ylabel('feat2')\n",
    "plt.show()"
   ]
  },
  {
   "cell_type": "markdown",
   "metadata": {},
   "source": [
    "For reducing original 5 Dimentions (BirthRt, DeathRt, InfMort, LExpM, LExpF) into 3-Dimentions(feat1,feat2,feat3)"
   ]
  },
  {
   "cell_type": "code",
   "execution_count": 57,
   "metadata": {},
   "outputs": [
    {
     "data": {
      "text/html": [
       "<div>\n",
       "<style scoped>\n",
       "    .dataframe tbody tr th:only-of-type {\n",
       "        vertical-align: middle;\n",
       "    }\n",
       "\n",
       "    .dataframe tbody tr th {\n",
       "        vertical-align: top;\n",
       "    }\n",
       "\n",
       "    .dataframe thead th {\n",
       "        text-align: right;\n",
       "    }\n",
       "</style>\n",
       "<table border=\"1\" class=\"dataframe\">\n",
       "  <thead>\n",
       "    <tr style=\"text-align: right;\">\n",
       "      <th></th>\n",
       "      <th>feat1</th>\n",
       "      <th>feat2</th>\n",
       "      <th>feat3</th>\n",
       "    </tr>\n",
       "  </thead>\n",
       "  <tbody>\n",
       "    <tr>\n",
       "      <td>0</td>\n",
       "      <td>-27.236608</td>\n",
       "      <td>-0.650739</td>\n",
       "      <td>-6.119314</td>\n",
       "    </tr>\n",
       "    <tr>\n",
       "      <td>1</td>\n",
       "      <td>-44.570397</td>\n",
       "      <td>5.693905</td>\n",
       "      <td>4.662044</td>\n",
       "    </tr>\n",
       "    <tr>\n",
       "      <td>2</td>\n",
       "      <td>-48.526605</td>\n",
       "      <td>5.058115</td>\n",
       "      <td>1.712026</td>\n",
       "    </tr>\n",
       "    <tr>\n",
       "      <td>3</td>\n",
       "      <td>-51.493645</td>\n",
       "      <td>4.589038</td>\n",
       "      <td>5.111772</td>\n",
       "    </tr>\n",
       "    <tr>\n",
       "      <td>4</td>\n",
       "      <td>-43.596494</td>\n",
       "      <td>6.157510</td>\n",
       "      <td>7.740559</td>\n",
       "    </tr>\n",
       "  </tbody>\n",
       "</table>\n",
       "</div>"
      ],
      "text/plain": [
       "       feat1     feat2     feat3\n",
       "0 -27.236608 -0.650739 -6.119314\n",
       "1 -44.570397  5.693905  4.662044\n",
       "2 -48.526605  5.058115  1.712026\n",
       "3 -51.493645  4.589038  5.111772\n",
       "4 -43.596494  6.157510  7.740559"
      ]
     },
     "execution_count": 57,
     "metadata": {},
     "output_type": "execute_result"
    }
   ],
   "source": [
    "pca3=PCA(3)\n",
    "new_dataset3=pca3.fit_transform(x_vec)\n",
    "new_dataframe3=pd.DataFrame(data=new_dataset3,columns=['feat1','feat2','feat3'])\n",
    "(new_dataframe3.head())"
   ]
  },
  {
   "cell_type": "markdown",
   "metadata": {},
   "source": [
    "# Singular Matrix Decomposition"
   ]
  },
  {
   "cell_type": "code",
   "execution_count": 63,
   "metadata": {},
   "outputs": [],
   "source": [
    "from sklearn.decomposition import TruncatedSVD as SVD"
   ]
  },
  {
   "cell_type": "code",
   "execution_count": 65,
   "metadata": {},
   "outputs": [
    {
     "name": "stdout",
     "output_type": "stream",
     "text": [
      "(97, 97)\n",
      "(5,)\n",
      "(5, 5)\n"
     ]
    }
   ],
   "source": [
    "U, s, V = np.linalg.svd(x_vec)\n",
    "print(U.shape)\n",
    "print(s.shape)\n",
    "print(V.shape)"
   ]
  },
  {
   "cell_type": "code",
   "execution_count": 69,
   "metadata": {},
   "outputs": [],
   "source": [
    "cum_sum=np.cumsum(s)"
   ]
  },
  {
   "cell_type": "code",
   "execution_count": 70,
   "metadata": {},
   "outputs": [],
   "source": [
    "svd=SVD(2)\n",
    "x_reduced=svd.fit_transform(x_vec)"
   ]
  },
  {
   "cell_type": "code",
   "execution_count": 71,
   "metadata": {},
   "outputs": [
    {
     "data": {
      "text/html": [
       "<div>\n",
       "<style scoped>\n",
       "    .dataframe tbody tr th:only-of-type {\n",
       "        vertical-align: middle;\n",
       "    }\n",
       "\n",
       "    .dataframe tbody tr th {\n",
       "        vertical-align: top;\n",
       "    }\n",
       "\n",
       "    .dataframe thead th {\n",
       "        text-align: right;\n",
       "    }\n",
       "</style>\n",
       "<table border=\"1\" class=\"dataframe\">\n",
       "  <thead>\n",
       "    <tr style=\"text-align: right;\">\n",
       "      <th></th>\n",
       "      <th>feat1</th>\n",
       "      <th>feat2</th>\n",
       "    </tr>\n",
       "  </thead>\n",
       "  <tbody>\n",
       "    <tr>\n",
       "      <td>0</td>\n",
       "      <td>104.519526</td>\n",
       "      <td>-34.581237</td>\n",
       "    </tr>\n",
       "    <tr>\n",
       "      <td>1</td>\n",
       "      <td>91.568739</td>\n",
       "      <td>-48.129960</td>\n",
       "    </tr>\n",
       "    <tr>\n",
       "      <td>2</td>\n",
       "      <td>93.659122</td>\n",
       "      <td>-53.193095</td>\n",
       "    </tr>\n",
       "    <tr>\n",
       "      <td>3</td>\n",
       "      <td>89.207849</td>\n",
       "      <td>-54.638704</td>\n",
       "    </tr>\n",
       "    <tr>\n",
       "      <td>4</td>\n",
       "      <td>89.635040</td>\n",
       "      <td>-46.327881</td>\n",
       "    </tr>\n",
       "  </tbody>\n",
       "</table>\n",
       "</div>"
      ],
      "text/plain": [
       "        feat1      feat2\n",
       "0  104.519526 -34.581237\n",
       "1   91.568739 -48.129960\n",
       "2   93.659122 -53.193095\n",
       "3   89.207849 -54.638704\n",
       "4   89.635040 -46.327881"
      ]
     },
     "execution_count": 71,
     "metadata": {},
     "output_type": "execute_result"
    }
   ],
   "source": [
    "x_red_dataframe=pd.DataFrame(data=x_reduced,columns=['feat1','feat2'])\n",
    "(x_red_dataframe.head())"
   ]
  },
  {
   "cell_type": "markdown",
   "metadata": {},
   "source": [
    "Reducing 5 dimentional original vector into 2-dimentional vector"
   ]
  },
  {
   "cell_type": "code",
   "execution_count": 72,
   "metadata": {},
   "outputs": [
    {
     "data": {
      "image/png": "[encoded data removed]",
      "text/plain": [
       "<Figure size 432x288 with 1 Axes>"
      ]
     },
     "metadata": {
      "needs_background": "light"
     },
     "output_type": "display_data"
    }
   ],
   "source": [
    "plt.scatter(x_red_dataframe['feat1'],x_red_dataframe['feat2'])\n",
    "plt.xlabel('feat1')\n",
    "plt.ylabel('feat2')\n",
    "plt.show()"
   ]
  },
  {
   "cell_type": "code",
   "execution_count": 73,
   "metadata": {},
   "outputs": [
    {
     "data": {
      "text/html": [
       "<div>\n",
       "<style scoped>\n",
       "    .dataframe tbody tr th:only-of-type {\n",
       "        vertical-align: middle;\n",
       "    }\n",
       "\n",
       "    .dataframe tbody tr th {\n",
       "        vertical-align: top;\n",
       "    }\n",
       "\n",
       "    .dataframe thead th {\n",
       "        text-align: right;\n",
       "    }\n",
       "</style>\n",
       "<table border=\"1\" class=\"dataframe\">\n",
       "  <thead>\n",
       "    <tr style=\"text-align: right;\">\n",
       "      <th></th>\n",
       "      <th>feat1</th>\n",
       "      <th>feat2</th>\n",
       "      <th>feat3</th>\n",
       "    </tr>\n",
       "  </thead>\n",
       "  <tbody>\n",
       "    <tr>\n",
       "      <td>0</td>\n",
       "      <td>104.519526</td>\n",
       "      <td>-34.581237</td>\n",
       "      <td>-1.496896</td>\n",
       "    </tr>\n",
       "    <tr>\n",
       "      <td>1</td>\n",
       "      <td>91.568739</td>\n",
       "      <td>-48.129960</td>\n",
       "      <td>6.099489</td>\n",
       "    </tr>\n",
       "    <tr>\n",
       "      <td>2</td>\n",
       "      <td>93.659122</td>\n",
       "      <td>-53.193095</td>\n",
       "      <td>4.918539</td>\n",
       "    </tr>\n",
       "    <tr>\n",
       "      <td>3</td>\n",
       "      <td>89.207849</td>\n",
       "      <td>-54.638704</td>\n",
       "      <td>4.984207</td>\n",
       "    </tr>\n",
       "    <tr>\n",
       "      <td>4</td>\n",
       "      <td>89.635040</td>\n",
       "      <td>-46.327881</td>\n",
       "      <td>6.964281</td>\n",
       "    </tr>\n",
       "  </tbody>\n",
       "</table>\n",
       "</div>"
      ],
      "text/plain": [
       "        feat1      feat2     feat3\n",
       "0  104.519526 -34.581237 -1.496896\n",
       "1   91.568739 -48.129960  6.099489\n",
       "2   93.659122 -53.193095  4.918539\n",
       "3   89.207849 -54.638704  4.984207\n",
       "4   89.635040 -46.327881  6.964281"
      ]
     },
     "execution_count": 73,
     "metadata": {},
     "output_type": "execute_result"
    }
   ],
   "source": [
    "from mpl_toolkits.mplot3d import Axes3D\n",
    "svd=SVD(3)\n",
    "x_reduced3=svd.fit_transform(x_vec)\n",
    "x_red_df3=pd.DataFrame(data=x_reduced3,columns=['feat1','feat2','feat3'])\n",
    "(x_red_df3.head())"
   ]
  },
  {
   "cell_type": "code",
   "execution_count": 74,
   "metadata": {},
   "outputs": [
    {
     "data": {
      "text/plain": [
       "<mpl_toolkits.mplot3d.art3d.Path3DCollection at 0x2546d07da48>"
      ]
     },
     "execution_count": 74,
     "metadata": {},
     "output_type": "execute_result"
    },
    {
     "data": {
      "image/png": "[encoded data removed]",
      "text/plain": [
       "<Figure size 432x288 with 1 Axes>"
      ]
     },
     "metadata": {
      "needs_background": "light"
     },
     "output_type": "display_data"
    }
   ],
   "source": [
    "fig = plt.figure()\n",
    "ax = fig.add_subplot(111, projection='3d')\n",
    "#ax = plt.axes(projection='3d')\n",
    "ax.scatter(x_red_df3['feat1'],x_red_df3['feat2'],x_red_df3['feat3'],color='red')"
   ]
  },
  {
   "cell_type": "code",
   "execution_count": null,
   "metadata": {},
   "outputs": [],
   "source": []
  }
 ],
 "metadata": {
  "kernelspec": {
   "display_name": "Python 3",
   "language": "python",
   "name": "python3"
  },
  "language_info": {
   "codemirror_mode": {
    "name": "ipython",
    "version": 3
   },
   "file_extension": ".py",
   "mimetype": "text/x-python",
   "name": "python",
   "nbconvert_exporter": "python",
   "pygments_lexer": "ipython3",
   "version": "3.7.4"
  }
 },
 "nbformat": 4,
 "nbformat_minor": 2
}
